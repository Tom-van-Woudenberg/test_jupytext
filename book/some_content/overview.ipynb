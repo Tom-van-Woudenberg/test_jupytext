{
 "cells": [
  {
   "cell_type": "markdown",
   "id": "59954f70",
   "metadata": {},
   "source": [
    "# Some notebook content\n",
    "\n",
    "Content is added in two different ways"
   ]
  }
 ],
 "metadata": {},
 "nbformat": 4,
 "nbformat_minor": 5
}
