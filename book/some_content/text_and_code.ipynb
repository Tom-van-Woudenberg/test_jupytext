{
 "cells": [
  {
   "cell_type": "markdown",
   "metadata": {},
   "source": [
    "# Text and code\n",
    "\n",
    "```{custom_download_link} text_and_code.md\n",
    ":text: \"myst:md\"\n",
    "```\n",
    "\n",
    "This page has both a ipynb and md version. It's referenced to by the toc with a `.ipynb`. A download link replacer thing is added with:\n",
    "\n",
    "````\n",
    "```{custom_download_link} text_and_code.md\n",
    ":text: \"myst:md\"\n",
    "```\n",
    "````\n",
    "\n",
    "It can be downloaded as `.ipynb` or `myst:md`\n",
    "\n",
    "Can it be edited from the GitHub online editor too? And now?\n",
    "\n",
    "I changed something, now again, again!\n",
    "\n",
    "Change again! And again! again! AGain!\n",
    "\n",
    "AGain for online file editor\n",
    "\n",
    "Again locally. Another time locally?"
   ]
  },
  {
   "cell_type": "code",
   "execution_count": 2,
   "metadata": {},
   "outputs": [
    {
     "name": "stdout",
     "output_type": "stream",
     "text": [
      "hello world 4\n"
     ]
    }
   ],
   "source": [
    "print('hello world 4')"
   ]
  }
 ],
 "metadata": {
  "kernelspec": {
   "display_name": "base",
   "language": "python",
   "name": "python3"
  },
  "language_info": {
   "codemirror_mode": {
    "name": "ipython",
    "version": 3
   },
   "file_extension": ".py",
   "mimetype": "text/x-python",
   "name": "python",
   "nbconvert_exporter": "python",
   "pygments_lexer": "ipython3",
   "version": "3.9.18"
  }
 },
 "nbformat": 4,
 "nbformat_minor": 2
}
