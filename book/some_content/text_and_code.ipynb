{
 "cells": [
  {
   "cell_type": "markdown",
   "metadata": {},
   "source": [
    "# Text and code with output\n",
    "\n",
    "```{custom_download_link} text_and_code.md\n",
    ":text: \"myst:md\"\n",
    "```\n",
    "\n",
    "This page has both a ipynb and md version. It's referenced to by the toc with a `.ipynb` so that the output is visible here too. A download link replacer thing is added with:\n",
    "\n",
    "````\n",
    "```{custom_download_link} text_and_code.md\n",
    ":text: \"myst:md\"\n",
    "```\n",
    "````\n",
    "\n",
    "Both the ipynb and md can be edited locally. When you try to commit, the files are synced so that you commit the combined version.\n",
    "\n",
    "If you make a change online, the pre-commit.ci thingy syncs the changes too, although it seems it fails on the pre-commit.ci website itself and it gives a red cross"
   ]
  },
  {
   "cell_type": "code",
   "execution_count": 2,
   "metadata": {},
   "outputs": [
    {
     "name": "stdout",
     "output_type": "stream",
     "text": [
      "hello world 4\n"
     ]
    }
   ],
   "source": [
    "print('hello world 4')"
   ]
  }
 ],
 "metadata": {
  "kernelspec": {
   "display_name": "base",
   "language": "python",
   "name": "python3"
  },
  "language_info": {
   "codemirror_mode": {
    "name": "ipython",
    "version": 3
   },
   "file_extension": ".py",
   "mimetype": "text/x-python",
   "name": "python",
   "nbconvert_exporter": "python",
   "pygments_lexer": "ipython3",
   "version": "3.9.18"
  }
 },
 "nbformat": 4,
 "nbformat_minor": 2
}
